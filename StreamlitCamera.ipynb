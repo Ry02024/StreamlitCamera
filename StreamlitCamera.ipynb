{
  "cells": [
    {
      "cell_type": "markdown",
      "metadata": {
        "id": "view-in-github",
        "colab_type": "text"
      },
      "source": [
        "<a href=\"https://colab.research.google.com/github/Ry02024/StreamlitCamera/blob/main/StreamlitCamera.ipynb\" target=\"_parent\"><img src=\"https://colab.research.google.com/assets/colab-badge.svg\" alt=\"Open In Colab\"/></a>"
      ]
    },
    {
      "cell_type": "markdown",
      "metadata": {
        "id": "d_4FA9X01rxG"
      },
      "source": [
        "##環境構築"
      ]
    },
    {
      "cell_type": "code",
      "source": [
        "!pip install opencv-python streamlit pyngrok -q"
      ],
      "metadata": {
        "colab": {
          "base_uri": "https://localhost:8080/"
        },
        "id": "6ErsV64knyea",
        "outputId": "f64b599b-8ccf-4eed-ace9-f04412e69b5f"
      },
      "execution_count": 1,
      "outputs": [
        {
          "output_type": "stream",
          "name": "stdout",
          "text": [
            "\u001b[2K     \u001b[90m━━━━━━━━━━━━━━━━━━━━━━━━━━━━━━━━━━━━━━━━\u001b[0m \u001b[32m8.6/8.6 MB\u001b[0m \u001b[31m13.2 MB/s\u001b[0m eta \u001b[36m0:00:00\u001b[0m\n",
            "\u001b[2K     \u001b[90m━━━━━━━━━━━━━━━━━━━━━━━━━━━━━━━━━━━━━━━━\u001b[0m \u001b[32m207.3/207.3 kB\u001b[0m \u001b[31m17.2 MB/s\u001b[0m eta \u001b[36m0:00:00\u001b[0m\n",
            "\u001b[2K     \u001b[90m━━━━━━━━━━━━━━━━━━━━━━━━━━━━━━━━━━━━━━━━\u001b[0m \u001b[32m6.9/6.9 MB\u001b[0m \u001b[31m37.8 MB/s\u001b[0m eta \u001b[36m0:00:00\u001b[0m\n",
            "\u001b[2K     \u001b[90m━━━━━━━━━━━━━━━━━━━━━━━━━━━━━━━━━━━━━━━━\u001b[0m \u001b[32m83.0/83.0 kB\u001b[0m \u001b[31m5.7 MB/s\u001b[0m eta \u001b[36m0:00:00\u001b[0m\n",
            "\u001b[2K     \u001b[90m━━━━━━━━━━━━━━━━━━━━━━━━━━━━━━━━━━━━━━━━\u001b[0m \u001b[32m62.7/62.7 kB\u001b[0m \u001b[31m5.6 MB/s\u001b[0m eta \u001b[36m0:00:00\u001b[0m\n",
            "\u001b[?25h"
          ]
        }
      ]
    },
    {
      "cell_type": "code",
      "execution_count": 2,
      "metadata": {
        "id": "yXfzNyhE1rxG"
      },
      "outputs": [],
      "source": [
        "import streamlit as st\n",
        "from pyngrok import ngrok"
      ]
    },
    {
      "cell_type": "code",
      "execution_count": 8,
      "metadata": {
        "id": "wTBjGPdv1rxG"
      },
      "outputs": [],
      "source": [
        "from google.colab import userdata\n",
        "NGROK_AUTH_TOKEN = userdata.get('NGROK_AUTH_TOKEN')"
      ]
    },
    {
      "cell_type": "code",
      "execution_count": 9,
      "metadata": {
        "id": "SUP7mo2B1rxG"
      },
      "outputs": [],
      "source": [
        "from pyngrok import ngrok\n",
        "import os\n",
        "\n",
        "# ngrokトークンを設定\n",
        "ngrok.set_auth_token(NGROK_AUTH_TOKEN)"
      ]
    },
    {
      "cell_type": "markdown",
      "metadata": {
        "id": "KfkVixYM1rxG"
      },
      "source": [
        "##実行ファイル"
      ]
    },
    {
      "cell_type": "markdown",
      "metadata": {
        "id": "sMerQbWVeyRE"
      },
      "source": [
        "###version1"
      ]
    },
    {
      "cell_type": "code",
      "source": [
        "%%writefile streamlit_app.py\n",
        "import streamlit as st\n",
        "import matplotlib.pyplot as plt\n",
        "from PIL import Image\n",
        "\n",
        "st.set_option(\"deprecation.showfileUploaderEncoding\", False)\n",
        "\n",
        "st.title(\"画像認識アプリ\")\n",
        "st.write(\"オリジナルの画像認識モデルを使って何の画像かを判定します。\")\n",
        "\n",
        "st.write(\"\")\n",
        "\n",
        "def capture_image():\n",
        "    img_file = st.camera_input(\"カメラで撮影\")\n",
        "    if img_file is not None:\n",
        "        img = Image.open(img_file)\n",
        "        st.image(img, caption=\"撮影された画像\", use_column_width=True)\n",
        "        return img\n",
        "    return None\n",
        "\n",
        "def upload_image():\n",
        "    img_file = st.file_uploader(\"画像を選択してください。\", type=[\"png\", \"jpg\"])\n",
        "    if img_file is not None:\n",
        "        img = Image.open(img_file)\n",
        "        st.image(img, caption=\"アップロードされた画像\", use_column_width=True)\n",
        "        return img\n",
        "    return None\n",
        "\n",
        "img_source = st.radio(\"画像のソースを選択してください。\",\n",
        "                      (\"画像をアップロード\", \"カメラで撮影\"))\n",
        "\n",
        "if img_source == \"画像をアップロード\":\n",
        "    img = upload_image()\n",
        "elif img_source == \"カメラで撮影\":\n",
        "    img = capture_image()\n",
        "\n",
        "if img is not None:\n",
        "    # ここに画像の予測処理を追加する\n",
        "    st.write(\"画像がアップロードされました。\")"
      ],
      "metadata": {
        "colab": {
          "base_uri": "https://localhost:8080/"
        },
        "id": "FHnHJYWjjuf-",
        "outputId": "d38fa648-9080-4064-ebd6-33e34ec65dfc"
      },
      "execution_count": 27,
      "outputs": [
        {
          "output_type": "stream",
          "name": "stdout",
          "text": [
            "Overwriting streamlit_app.py\n"
          ]
        }
      ]
    },
    {
      "cell_type": "markdown",
      "source": [
        "##version2"
      ],
      "metadata": {
        "id": "knwG7d8zhHJQ"
      }
    },
    {
      "cell_type": "markdown",
      "metadata": {
        "id": "W4iAda4i1rxH"
      },
      "source": [
        "##アプリの起動"
      ]
    },
    {
      "cell_type": "code",
      "execution_count": 28,
      "metadata": {
        "colab": {
          "base_uri": "https://localhost:8080/"
        },
        "id": "17c_nK0C1rxH",
        "outputId": "a1305720-c796-4f32-dce8-ab4e7ce23371"
      },
      "outputs": [
        {
          "output_type": "stream",
          "name": "stdout",
          "text": [
            "Public URL: NgrokTunnel: \"https://dfc3-34-75-92-169.ngrok-free.app\" -> \"http://localhost:8501\"\n"
          ]
        }
      ],
      "source": [
        "# ngrokを介してStreamlitを公開\n",
        "public_url = ngrok.connect(addr='8501')\n",
        "print('Public URL:', public_url)"
      ]
    },
    {
      "cell_type": "code",
      "execution_count": 29,
      "metadata": {
        "id": "RL66sp521rxI",
        "colab": {
          "base_uri": "https://localhost:8080/"
        },
        "outputId": "ca0f9d3b-103e-4ece-bbd1-979960a8de9b"
      },
      "outputs": [
        {
          "output_type": "stream",
          "name": "stdout",
          "text": [
            "2024-05-29 05:00:55.580 \n",
            "════════════════════════════════════════════════\n",
            "deprecation.showfileUploaderEncoding IS NO LONGER SUPPORTED.\n",
            "\n",
            "deprecation.showfileUploaderEncoding has been deprecated and will be removed in a future version.\n",
            "\n",
            "Please update <user defined>.\n",
            "════════════════════════════════════════════════\n",
            "\n",
            "2024-05-29 05:00:59.442 \n",
            "════════════════════════════════════════════════\n",
            "deprecation.showfileUploaderEncoding IS NO LONGER SUPPORTED.\n",
            "\n",
            "deprecation.showfileUploaderEncoding has been deprecated and will be removed in a future version.\n",
            "\n",
            "Please update <user defined>.\n",
            "════════════════════════════════════════════════\n",
            "\n",
            "2024-05-29 05:01:09.491 \n",
            "════════════════════════════════════════════════\n",
            "deprecation.showfileUploaderEncoding IS NO LONGER SUPPORTED.\n",
            "\n",
            "deprecation.showfileUploaderEncoding has been deprecated and will be removed in a future version.\n",
            "\n",
            "Please update <user defined>.\n",
            "════════════════════════════════════════════════\n",
            "\n"
          ]
        }
      ],
      "source": [
        "# Streamlitアプリケーションの起動\n",
        "!streamlit run streamlit_app.py >/dev/null"
      ]
    }
  ],
  "metadata": {
    "colab": {
      "provenance": [],
      "include_colab_link": true
    },
    "kernelspec": {
      "display_name": "Python 3",
      "name": "python3"
    },
    "language_info": {
      "name": "python"
    }
  },
  "nbformat": 4,
  "nbformat_minor": 0
}